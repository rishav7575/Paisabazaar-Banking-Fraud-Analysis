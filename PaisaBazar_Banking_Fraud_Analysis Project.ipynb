{
  "nbformat": 4,
  "nbformat_minor": 0,
  "metadata": {
    "colab": {
      "private_outputs": true,
      "provenance": [],
      "collapsed_sections": [
        "t6dVpIINYklI",
        "ijmpgYnKYklI",
        "-JiQyfWJYklI",
        "fge-S5ZAYoAp",
        "85gYPyotYoAp",
        "RoGjAbkUYoAp",
        "iky9q4vBYrdO",
        "F6T5p64dYrdO",
        "y-Ehk30pYrdP",
        "QHF8YVU7Yuh3",
        "GwzvFGzlYuh3",
        "qYpmQ266Yuh3",
        "bbFf2-_FphqN",
        "_ouA3fa0phqN",
        "Seke61FWphqN",
        "t27r6nlMphqO",
        "r2jJGEOYphqO",
        "b0JNsNcRphqO",
        "jj7wYXLtphqO",
        "eZrbJ2SmphqO",
        "rFu4xreNphqO",
        "gCFgpxoyphqP",
        "OVtJsKN_phqQ",
        "lssrdh5qphqQ",
        "1M8mcRywphqQ",
        "tgIPom80phqQ",
        "JMzcOPDDphqR",
        "X_VqEhTip1ck",
        "8zGJKyg5p1ck",
        "PVzmfK_Ep1ck",
        "ylSl6qgtp1ck",
        "ZWILFDl5p1ck",
        "M7G43BXep1ck",
        "E6MkPsBcp1cl",
        "2cELzS2fp1cl",
        "3MPXvC8up1cl",
        "ofedFtPntEof",
        "JcMwzZxoAimU",
        "8G2x9gOozGDZ",
        "gCX9965dhzqZ",
        "gIfDvo9L0UH2"
      ]
    },
    "kernelspec": {
      "name": "python3",
      "display_name": "Python 3"
    },
    "language_info": {
      "name": "python"
    }
  },
  "cells": [
    {
      "cell_type": "markdown",
      "source": [
        "# **Project Name**    - Paisabazaar banking Fraud Analysis\n",
        "\n"
      ],
      "metadata": {
        "id": "vncDsAP0Gaoa"
      }
    },
    {
      "cell_type": "markdown",
      "source": [
        "##### **Project Type**    - EDA\n",
        "##### **Contribution**    - Individual\n",
        "##### **Project By - Rishav Sinha**\n"
      ],
      "metadata": {
        "id": "beRrZCGUAJYm"
      }
    },
    {
      "cell_type": "markdown",
      "source": [
        "# **Project Summary -**"
      ],
      "metadata": {
        "id": "FJNUwmbgGyua"
      }
    },
    {
      "cell_type": "markdown",
      "source": [
        "The financial industry has witnessed a significant rise in fraudulent activities and credit risks over the past decade, making fraud detection and credit risk assessment critical areas of focus for banks and financial institutions. In this project, we analyze a large-scale dataset provided by Paisabazaar, which includes customer demographics, financial details, credit utilization patterns, and payment behaviors. By conducting Exploratory Data Analysis (EDA) and visualizations, the goal is to uncover key insights that can help detect fraudulent behavior, assess financial risk, and strengthen customer credit profiling.\n",
        "\n",
        "The dataset consists of 81782 records with 28 attributes related to customer identity, financial history, and credit score. Key columns include Annual Income, Monthly Inhand Salary, Number of Bank Accounts, Number of Credit Cards, Interest Rate, Outstanding Debt, Credit Utilization Ratio, Credit History Age, Payment Behavior, and Credit Score. These variables are essential indicators of financial health and are widely used in risk modeling and fraud detection systems. The presence of demographic details such as Age, Occupation, and SSN adds an additional layer for identifying potential fraud cases, such as multiple accounts linked to the same identity or unrealistic financial behaviors.\n",
        "\n",
        "The first step of the project involves data cleaning and preprocessing. Although the dataset does not contain missing values, duplicate entries or repeated customer records across multiple months are also examined to ensure data integrity.\n",
        "\n",
        "The next stage focuses on Exploratory Data Analysis (EDA). Here, we investigate how different features relate to fraudulent or risky financial behavior. For instance, the relationship between Credit Utilization Ratio and Credit Score can reveal whether customers who use higher proportions of their available credit are more likely to have poor scores. Similarly, analysis of Number of Delayed Payments and Delay from Due Date can highlight patterns of financial irresponsibility, which are often precursors to fraud or default. Visualizations such as histograms, boxplots, heatmaps, and correlation matrices help identify trends, anomalies, and feature interdependencies.\n",
        "\n",
        "One of the core aspects of this project is fraud analysis. Fraudulent behavior often manifests in unrealistic or contradictory patterns in financial data. For example, a customer with a low annual income but multiple credit cards, high loan counts, and excessive monthly spending could indicate suspicious activity. Similarly, sudden changes in Credit Limit, unusually high Credit Inquiries, or inconsistent Payment Behavior can serve as red flags. By combining statistical analysis and visual exploration, we aim to highlight such irregularities.\n",
        "\n",
        "Another key outcome of this project is credit risk profiling. The dataset contains a labeled feature, Credit Score, categorized as Good, Standard, or Poor. By analyzing the distribution of features across these groups, we can uncover the primary factors contributing to poor credit performance. For example, high EMI obligations compared to income, frequent delays in payment, and poor credit mix are expected to correlate strongly with lower credit scores. These insights are valuable for banks in developing scoring models and improving lending decisions.\n",
        "\n",
        "Visual storytelling plays a vital role in this analysis. Through bar charts, scatter plots, and trend graphs, we illustrate how financial indicators differ across customer segments. Heatmaps and pair plots help identify multi-feature interactions, while boxplots highlight outliers that may correspond to fraud. For instance, we can visualize the variation of Outstanding Debt across different income groups or compare Payment Behavior with Credit Utilization Ratios to detect unusual spending habits.\n",
        "\n",
        "In conclusion, this project provides a comprehensive understanding of customer financial behavior using real-world banking data. By leveraging EDA and visualization techniques, we identify patterns of fraud, risk factors affecting credit scores, and relationships between financial attributes. The insights gained not only aid in detecting fraudulent activities but also enable financial institutions to optimize their credit risk strategies and enhance customer profiling systems. Ultimately, this project demonstrates how data-driven analysis can contribute to safer, more transparent, and more efficient banking systems."
      ],
      "metadata": {
        "id": "F6v_1wHtG2nS"
      }
    },
    {
      "cell_type": "markdown",
      "source": [
        "![paisabazar.jpg](data:image/jpeg;base64,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)"
      ],
      "metadata": {
        "id": "UABq4eeZ03Nv"
      }
    },
    {
      "cell_type": "markdown",
      "source": [
        "# **GitHub Link -**"
      ],
      "metadata": {
        "id": "w6K7xa23Elo4"
      }
    },
    {
      "cell_type": "markdown",
      "source": [
        "https://github.com/rishav7575/Paisabazaar-Banking-Fraud-Analysis"
      ],
      "metadata": {
        "id": "h1o69JH3Eqqn"
      }
    },
    {
      "cell_type": "markdown",
      "source": [
        "# **Problem Statement**\n"
      ],
      "metadata": {
        "id": "yQaldy8SH6Dl"
      }
    },
    {
      "cell_type": "markdown",
      "source": [
        "**We are given a dataset of 81782 banking customers with detailed information about their financial activities, credit history, and personal profiles, how can we effectively analyze this data to detect and flag potential fraudulent behavior? The analysis should focus on identifying patterns and anomalies that deviate from typical customer behavior, which could indicate fraudulent activities such as credit card fraud, loan exploitation, or unusual financial transactions. We have to use atleast 5 different types of charts in the visualization section.**"
      ],
      "metadata": {
        "id": "DpeJGUA3kjGy"
      }
    },
    {
      "cell_type": "markdown",
      "source": [
        "#### **Define Your Business Objective?**"
      ],
      "metadata": {
        "id": "PH-0ReGfmX4f"
      }
    },
    {
      "cell_type": "markdown",
      "source": [
        "The objective of this project is to analyze customer financial and behavioral data to detect potential banking fraud and assess credit risk more effectively. By leveraging Exploratory Data Analysis and visualization techniques, our project aims to uncover hidden patterns, anomalies, and key factors that indicate fraudulent activity or poor credit performance. These insights will help financial institutions like Paisabazaar strengthen fraud detection systems, optimize lending decisions, and improve overall customer risk profiling."
      ],
      "metadata": {
        "id": "PhDvGCAqmjP1"
      }
    },
    {
      "cell_type": "markdown",
      "source": [
        "# ***Let's Begin !***"
      ],
      "metadata": {
        "id": "O_i_v8NEhb9l"
      }
    },
    {
      "cell_type": "markdown",
      "source": [
        "## ***1. Know Your Data***"
      ],
      "metadata": {
        "id": "HhfV-JJviCcP"
      }
    },
    {
      "cell_type": "markdown",
      "source": [
        "### Import Libraries"
      ],
      "metadata": {
        "id": "Y3lxredqlCYt"
      }
    },
    {
      "cell_type": "code",
      "source": [
        "# Import Libraries\n",
        "import numpy as np\n",
        "import pandas as pd\n",
        "import matplotlib.pyplot as plt\n",
        "import seaborn as sns\n",
        "from datetime import datetime\n",
        "import warnings\n",
        "warnings.filterwarnings('ignore')\n"
      ],
      "metadata": {
        "id": "M8Vqi-pPk-HR"
      },
      "execution_count": null,
      "outputs": []
    },
    {
      "cell_type": "markdown",
      "source": [
        "### Dataset Loading"
      ],
      "metadata": {
        "id": "3RnN4peoiCZX"
      }
    },
    {
      "cell_type": "code",
      "source": [
        "# Load Dataset\n",
        "paisabazaar_df = pd.read_csv('/content/dataset.csv')"
      ],
      "metadata": {
        "id": "4CkvbW_SlZ_R"
      },
      "execution_count": null,
      "outputs": []
    },
    {
      "cell_type": "markdown",
      "source": [
        "### Dataset First View"
      ],
      "metadata": {
        "id": "x71ZqKXriCWQ"
      }
    },
    {
      "cell_type": "code",
      "source": [
        "# Dataset First Look\n",
        "paisabazaar_df.head()"
      ],
      "metadata": {
        "id": "LWNFOSvLl09H"
      },
      "execution_count": null,
      "outputs": []
    },
    {
      "cell_type": "markdown",
      "source": [
        "### Dataset Rows & Columns count"
      ],
      "metadata": {
        "id": "7hBIi_osiCS2"
      }
    },
    {
      "cell_type": "code",
      "source": [
        "# Dataset Rows & Columns count\n",
        "paisabazaar_df.shape\n"
      ],
      "metadata": {
        "id": "Kllu7SJgmLij"
      },
      "execution_count": null,
      "outputs": []
    },
    {
      "cell_type": "markdown",
      "source": [
        "### Dataset Information"
      ],
      "metadata": {
        "id": "JlHwYmJAmNHm"
      }
    },
    {
      "cell_type": "code",
      "source": [
        "# Dataset Info\n",
        "paisabazaar_df.info()"
      ],
      "metadata": {
        "id": "e9hRXRi6meOf"
      },
      "execution_count": null,
      "outputs": []
    },
    {
      "cell_type": "markdown",
      "source": [
        "#### Duplicate Values"
      ],
      "metadata": {
        "id": "35m5QtbWiB9F"
      }
    },
    {
      "cell_type": "code",
      "source": [
        "# Dataset Duplicate Value Count\n",
        "len(paisabazaar_df[paisabazaar_df.duplicated()])"
      ],
      "metadata": {
        "id": "1sLdpKYkmox0"
      },
      "execution_count": null,
      "outputs": []
    },
    {
      "cell_type": "markdown",
      "source": [
        "#### Missing Values/Null Values"
      ],
      "metadata": {
        "id": "PoPl-ycgm1ru"
      }
    },
    {
      "cell_type": "code",
      "source": [
        "# Missing Values/Null Values Count\n",
        "paisabazaar_df.isnull().sum()"
      ],
      "metadata": {
        "id": "GgHWkxvamxVg"
      },
      "execution_count": null,
      "outputs": []
    },
    {
      "cell_type": "code",
      "source": [
        "# Visualizing the missing values\n",
        "sns.heatmap(paisabazaar_df.isnull(), cbar='coolwarm')\n"
      ],
      "metadata": {
        "id": "3q5wnI3om9sJ"
      },
      "execution_count": null,
      "outputs": []
    },
    {
      "cell_type": "markdown",
      "source": [
        "### What did you know about your dataset?"
      ],
      "metadata": {
        "id": "H0kj-8xxnORC"
      }
    },
    {
      "cell_type": "markdown",
      "source": [
        "During the initial exploration of the dataset, I found that there are 100000 rows and 28 columns in the dataset. Also the  Age column is stored as a float type, so we have to convert it into an integer type for better accuracy and interpretation. I also checked for duplicate records, but no duplicates were found in the dataset. While analyzing missing values, I observed that the last 3 columns namely (Payment_Behaviour, Monthly_Balance, Credit_Score) contained one null value each."
      ],
      "metadata": {
        "id": "gfoNAAC-nUe_"
      }
    },
    {
      "cell_type": "markdown",
      "source": [
        "## ***2. Understanding Your Variables***"
      ],
      "metadata": {
        "id": "nA9Y7ga8ng1Z"
      }
    },
    {
      "cell_type": "code",
      "source": [
        "# Dataset Columns\n",
        "paisabazaar_df.columns"
      ],
      "metadata": {
        "id": "j7xfkqrt5Ag5"
      },
      "execution_count": null,
      "outputs": []
    },
    {
      "cell_type": "code",
      "source": [
        "# Dataset Describe\n",
        "paisabazaar_df.describe(include='all')"
      ],
      "metadata": {
        "id": "DnOaZdaE5Q5t"
      },
      "execution_count": null,
      "outputs": []
    },
    {
      "cell_type": "markdown",
      "source": [
        "### Variables Description"
      ],
      "metadata": {
        "id": "PBTbrJXOngz2"
      }
    },
    {
      "cell_type": "markdown",
      "source": [
        "The dataset consists of 28 variables capturing customer demographics, financial details, credit history, and behavioral patterns. Key features include Age, Occupation, Annual Income, Number of Bank Accounts, Credit Utilization Ratio, Outstanding Debt, and Payment Behavior, which help in understanding customer financial profiles. The target variable is Credit Score, categorized as Good, Standard, or Poor, which serves as a benchmark for assessing fraud risk and creditworthiness."
      ],
      "metadata": {
        "id": "aJV4KIxSnxay"
      }
    },
    {
      "cell_type": "markdown",
      "source": [
        "### Check Unique Values for each variable."
      ],
      "metadata": {
        "id": "u3PMJOP6ngxN"
      }
    },
    {
      "cell_type": "code",
      "source": [
        "# Check Unique Values for each variable.\n",
        "paisabazaar_df.nunique()"
      ],
      "metadata": {
        "id": "zms12Yq5n-jE"
      },
      "execution_count": null,
      "outputs": []
    },
    {
      "cell_type": "markdown",
      "source": [
        "## 3. ***Data Wrangling***"
      ],
      "metadata": {
        "id": "dauF4eBmngu3"
      }
    },
    {
      "cell_type": "markdown",
      "source": [
        "### Data Wrangling Code"
      ],
      "metadata": {
        "id": "bKJF3rekwFvQ"
      }
    },
    {
      "cell_type": "code",
      "source": [
        "# Convert 'Age' column from float to integer\n",
        "paisabazaar_df['Age'] = paisabazaar_df['Age'].astype(int)\n",
        "\n",
        "# Check for duplicate values\n",
        "duplicates = paisabazaar_df.duplicated().sum()\n",
        "print(\"Number of duplicate rows:\", duplicates)\n",
        "\n",
        "# Check for null values\n",
        "print(\"Null values before cleaning: As we found earlier in the project there were 1 null value in last 9 columns each\")\n",
        "\n",
        "# Drop rows with null values (since only 1 null in last 9 columns)\n",
        "paisabazaar_df = paisabazaar_df.dropna()\n",
        "\n",
        "\n",
        "# Verify after cleaning\n",
        "print(\"Shape after dropping null values:\", paisabazaar_df.shape)\n",
        "print(\"Null values after cleaning:\\n\", paisabazaar_df.isnull().sum())\n"
      ],
      "metadata": {
        "id": "wk-9a2fpoLcV"
      },
      "execution_count": null,
      "outputs": []
    },
    {
      "cell_type": "code",
      "source": [
        "#Removing outliers in 'Annual_Income' column using IQR\n",
        "Q1 = paisabazaar_df['Annual_Income'].quantile(0.25)\n",
        "Q3 = paisabazaar_df['Annual_Income'].quantile(0.75)\n",
        "IQR = Q3 - Q1\n",
        "df = paisabazaar_df[(paisabazaar_df['Annual_Income'] >= (Q1 - 1.5 * IQR)) & (paisabazaar_df['Annual_Income'] <= (Q3 + 1.5 * IQR))]"
      ],
      "metadata": {
        "id": "9hIcHVmaNXaL"
      },
      "execution_count": null,
      "outputs": []
    },
    {
      "cell_type": "code",
      "source": [
        "#Creating a new column 'Income_per_Account'\n",
        "paisabazaar_df['Income_per_Account'] = paisabazaar_df['Annual_Income'] / paisabazaar_df['Num_Bank_Accounts']"
      ],
      "metadata": {
        "id": "m07XTDd4N4Nu"
      },
      "execution_count": null,
      "outputs": []
    },
    {
      "cell_type": "code",
      "source": [
        "#Creating a feature 'Credit_Score_Level'\n",
        "paisabazaar_df['Credit_Score_Level'] = paisabazaar_df['Credit_Score'].apply(lambda x: 'High' if isinstance(x, int) and x > 700 else 'Low')"
      ],
      "metadata": {
        "id": "kabhqsuaOoLC"
      },
      "execution_count": null,
      "outputs": []
    },
    {
      "cell_type": "markdown",
      "source": [
        "### What all manipulations have you done and insights you found?"
      ],
      "metadata": {
        "id": "MSa1f5Uengrz"
      }
    },
    {
      "cell_type": "markdown",
      "source": [
        "The Age column was stored as a float type, so I converted it into an integer type for better accuracy and interpretation. I also checked for duplicate records, but no duplicates were found in the dataset. While analyzing missing values, I observed that the last nine columns namely (Payment_Behaviour, Monthly_Balance, Credit_Score) contained one null value each. To ensure data consistency and avoid biased analysis, I decided to drop all rows containing null values. After these preprocessing steps, the dataset is now cleaner, with standardized datatypes and no missing or duplicate records, making it ready for further analysis and visualization.\n",
        "Also, we have remomed outliers from our \"Annual_Income\" column to remove extremely high or low incomes compared to the majority.\n",
        "We have also created two new columns:-\n",
        "1- Income_per_Account - To represent income per account of an individual if they are having multiple accounts.\n",
        "2- Credit_Score_Level - To divide the credit score levels into low, medium, or high levels."
      ],
      "metadata": {
        "id": "LbyXE7I1olp8"
      }
    },
    {
      "cell_type": "markdown",
      "source": [
        "## 4. ***KPIs(Key Perfromance Indicators) Calculation***"
      ],
      "metadata": {
        "id": "attjCAdx6ejM"
      }
    },
    {
      "cell_type": "markdown",
      "source": [
        "#### 1 - Customer Demographics"
      ],
      "metadata": {
        "id": "B9023Dc4600n"
      }
    },
    {
      "cell_type": "code",
      "source": [
        "#Average Age of Customers\n",
        "avg_age = paisabazaar_df['Age'].mean()\n",
        "print(f\"Average Age of Customers: {avg_age:.2f} years\")\n",
        "\n"
      ],
      "metadata": {
        "id": "Y3RhsqRf7E-8"
      },
      "execution_count": null,
      "outputs": []
    },
    {
      "cell_type": "code",
      "source": [
        "#Distribution of Occupation\n",
        "occupation_counts = paisabazaar_df['Occupation'].value_counts()\n",
        "print(\"Distribution of Occupation:\")\n",
        "print(occupation_counts)"
      ],
      "metadata": {
        "id": "CK5PjTaS7Sgz"
      },
      "execution_count": null,
      "outputs": []
    },
    {
      "cell_type": "code",
      "source": [
        "#Number of Customers by Income Group\n",
        "\n",
        "# Define income groups (bins)\n",
        "max_income = paisabazaar_df['Annual_Income'].max()\n",
        "bins = [0, 25000, 50000, 100000, 200000]\n",
        "\n",
        "labels = ['Low (<25K)', 'Lower-Middle (25K-50K)',\n",
        "          'Middle (50K-100K)', 'Upper-Middle (100K-200K)']\n",
        "\n",
        "if max_income > 200000:\n",
        "    bins.append(max_income)\n",
        "    labels.append('High (>200K)')\n",
        "\n",
        "# Create income group column\n",
        "paisabazaar_df['Income_Group'] = pd.cut(paisabazaar_df['Annual_Income'], bins=bins, labels=labels, include_lowest=True)\n",
        "\n",
        "# KPI: Number of customers by income group\n",
        "income_group_counts = paisabazaar_df['Income_Group'].value_counts().sort_index()\n",
        "\n",
        "print(income_group_counts)"
      ],
      "metadata": {
        "id": "4XP1gY_J7cYq"
      },
      "execution_count": null,
      "outputs": []
    },
    {
      "cell_type": "markdown",
      "source": [
        "#### 2- Financial Behavior"
      ],
      "metadata": {
        "id": "hu57DldmAkjf"
      }
    },
    {
      "cell_type": "code",
      "source": [
        "#Average Annual Income\n",
        "avg_annual_income = paisabazaar_df['Annual_Income'].mean()\n",
        "print(f\"Average Annual Income: ${avg_annual_income:.2f}\")"
      ],
      "metadata": {
        "id": "dTE08lRHAv2e"
      },
      "execution_count": null,
      "outputs": []
    },
    {
      "cell_type": "code",
      "source": [
        "#Average Monthly In-hand Salary\n",
        "avg_monthly_salary = paisabazaar_df['Monthly_Inhand_Salary'].mean()\n",
        "print(f\"Average Monthly In-hand Salary: ${avg_monthly_salary:.2f}\")"
      ],
      "metadata": {
        "id": "yZ71z-fNBBF9"
      },
      "execution_count": null,
      "outputs": []
    },
    {
      "cell_type": "code",
      "source": [
        "#Average Debt-to-Income Ratio\n",
        "debt_to_income_ratio = paisabazaar_df['Outstanding_Debt'] / paisabazaar_df['Annual_Income']\n",
        "avg_debt_to_income_ratio = debt_to_income_ratio.mean()\n",
        "print(f\"Average Debt-to-Income Ratio: {avg_debt_to_income_ratio:.2f}\")\n"
      ],
      "metadata": {
        "id": "e2iG5YS8Bmnz"
      },
      "execution_count": null,
      "outputs": []
    },
    {
      "cell_type": "code",
      "source": [
        "#Average Credit Utilization Ratio\n",
        "credit_utilization_ratio = paisabazaar_df['Credit_Utilization_Ratio']\n",
        "avg_credit_utilization_ratio = credit_utilization_ratio.mean()\n",
        "print(f\"Average Credit Utilization Ratio: {avg_credit_utilization_ratio:.2f}\")"
      ],
      "metadata": {
        "id": "PpWiwrynCMvJ"
      },
      "execution_count": null,
      "outputs": []
    },
    {
      "cell_type": "code",
      "source": [
        "#Average Number of Bank Accounts\n",
        "avg_num_bank_accounts = paisabazaar_df['Num_Bank_Accounts'].mean()\n",
        "print(f\"Average Number of Bank Accounts: {avg_num_bank_accounts:.2f}\")"
      ],
      "metadata": {
        "id": "VtpdodeJCc3z"
      },
      "execution_count": null,
      "outputs": []
    },
    {
      "cell_type": "code",
      "source": [
        "#Average Number of Credit Cards\n",
        "avg_num_credit_cards = paisabazaar_df['Num_Credit_Card'].mean()\n",
        "print(f\"Average Number of Credit Cards: {avg_num_credit_cards:.2f}\")"
      ],
      "metadata": {
        "id": "GtDVjlVLCme1"
      },
      "execution_count": null,
      "outputs": []
    },
    {
      "cell_type": "markdown",
      "source": [
        "#### 3- Loan & Credit Performance"
      ],
      "metadata": {
        "id": "jyfOF_2LCxOp"
      }
    },
    {
      "cell_type": "code",
      "source": [
        "#Average Number of Loans per Customer\n",
        "avg_num_loans = paisabazaar_df['Num_of_Loan'].mean()\n",
        "print(f\"Average Number of Loans per Customer: {avg_num_loans:.2f}\")"
      ],
      "metadata": {
        "id": "YPt11StZCyd6"
      },
      "execution_count": null,
      "outputs": []
    },
    {
      "cell_type": "code",
      "source": [
        "#Average Interest Rate\n",
        "avg_interest_rate = paisabazaar_df['Interest_Rate'].mean()\n",
        "print(f\"Average Interest Rate: {avg_interest_rate:.2f}%\")"
      ],
      "metadata": {
        "id": "KV8I4V3TDGcU"
      },
      "execution_count": null,
      "outputs": []
    },
    {
      "cell_type": "code",
      "source": [
        "#Total EMI as percentage of Income (EMI Burden Ratio)\n",
        "total_emi = paisabazaar_df['Total_EMI_per_month'].sum()\n",
        "total_income = paisabazaar_df['Annual_Income'].sum()\n",
        "emi_burden_ratio = (total_emi / total_income) * 100\n",
        "print(f\"Total EMI as % of Income (EMI Burden Ratio): {emi_burden_ratio:.2f}\")"
      ],
      "metadata": {
        "id": "H3Tc4PmdDMEZ"
      },
      "execution_count": null,
      "outputs": []
    },
    {
      "cell_type": "code",
      "source": [
        "#Average Credit History Age\n",
        "avg_credit_history_age = paisabazaar_df['Credit_History_Age'].mean()\n",
        "print(f\"Average Credit History Age: {avg_credit_history_age:.2f} years\")"
      ],
      "metadata": {
        "id": "FKAPruF1DsNv"
      },
      "execution_count": null,
      "outputs": []
    },
    {
      "cell_type": "markdown",
      "source": [
        "#### 4-Risk And Fraud Indicators"
      ],
      "metadata": {
        "id": "dtSogJlkEEJk"
      }
    },
    {
      "cell_type": "code",
      "source": [
        "#Average Number of Delayed Payments\n",
        "avg_num_delayed_payments = paisabazaar_df['Num_of_Delayed_Payment'].mean()\n",
        "print(f\"Average Number of Delayed Payments: {avg_num_delayed_payments:.2f}\")"
      ],
      "metadata": {
        "id": "M3iForrzEJpG"
      },
      "execution_count": null,
      "outputs": []
    },
    {
      "cell_type": "code",
      "source": [
        "#Delay from Due Date(avg, min, max)\n",
        "avg_delay_from_due_date = paisabazaar_df['Num_of_Delayed_Payment'].mean()\n",
        "min_delay_from_due_date = paisabazaar_df['Num_of_Delayed_Payment'].min()\n",
        "max_delay_from_due_date = paisabazaar_df['Num_of_Delayed_Payment'].max()\n",
        "print(f\"Average Delay from Due Date: {avg_delay_from_due_date:.2f}\")\n",
        "print(f\"Minimum Delay from Due Date: {min_delay_from_due_date}\")\n",
        "print(f\"Maximum Delay from Due Date: {max_delay_from_due_date}\")"
      ],
      "metadata": {
        "id": "7Zw3r3ilERrQ"
      },
      "execution_count": null,
      "outputs": []
    },
    {
      "cell_type": "code",
      "source": [
        "#Percent of Customer with Frequent Credit Inquiries\n",
        "percent_frequent_credit_inquiries = (paisabazaar_df['Num_Credit_Inquiries'] > 0).mean() * 100\n",
        "print(f\"Percent of Customer with Frequent Credit Inquiries: {percent_frequent_credit_inquiries:.2f}%\")"
      ],
      "metadata": {
        "id": "B_7DOS_3EoI4"
      },
      "execution_count": null,
      "outputs": []
    },
    {
      "cell_type": "code",
      "source": [
        "#Percent of Customers with Changed Credit Limit\n",
        "percent_changed_credit_limit = (paisabazaar_df['Changed_Credit_Limit'] > 0).mean() * 100\n",
        "print(f\"Percent of Customers with Changed Credit Limit: {percent_changed_credit_limit:.2f}%\")"
      ],
      "metadata": {
        "id": "ybkW7oXPFIrp"
      },
      "execution_count": null,
      "outputs": []
    },
    {
      "cell_type": "code",
      "source": [
        "#Distribution of Credit Score Categories(Good/Standard/Poor)\n",
        "credit_score_counts = paisabazaar_df['Credit_Score'].value_counts()\n",
        "print(\"Distribution of Credit Score Categories:\")\n",
        "print(credit_score_counts)"
      ],
      "metadata": {
        "id": "ftjsIPlXF0CS"
      },
      "execution_count": null,
      "outputs": []
    },
    {
      "cell_type": "markdown",
      "source": [
        "#### 5-Behavioral Insights"
      ],
      "metadata": {
        "id": "z18GC19_GPgO"
      }
    },
    {
      "cell_type": "code",
      "source": [
        "#Distribution of Payment Behaviour\n",
        "payment_behaviour_counts = paisabazaar_df['Payment_Behaviour'].value_counts()\n",
        "print(\"Distribution of Payment Behaviour:\")\n",
        "print(payment_behaviour_counts)"
      ],
      "metadata": {
        "id": "vRUg61-9GQvC"
      },
      "execution_count": null,
      "outputs": []
    },
    {
      "cell_type": "code",
      "source": [
        "#Percent of Customers who pay Minimum Amount only\n",
        "percent_min_payment = (paisabazaar_df['Payment_Behaviour'] == 'Low').mean() * 100\n",
        "print(f\"Percent of Customers who pay Minimum Amount only: {percent_min_payment:.2f}%\")"
      ],
      "metadata": {
        "id": "Kjs59tvfGvDP"
      },
      "execution_count": null,
      "outputs": []
    },
    {
      "cell_type": "markdown",
      "source": [
        "## ***5. Data Vizualization, Storytelling & Experimenting with charts : Understand the relationships between variables***"
      ],
      "metadata": {
        "id": "GF8Ens_Soomf"
      }
    },
    {
      "cell_type": "markdown",
      "source": [
        "#### Chart - 1 Number of Customers By Occupation - Bar Chart (Demographic Analysis)"
      ],
      "metadata": {
        "id": "0wOQAZs5pc--"
      }
    },
    {
      "cell_type": "code",
      "source": [
        "Occupation_wise_no_of_customers = paisabazaar_df['Occupation'].value_counts().reset_index()"
      ],
      "metadata": {
        "id": "amq8EfqGI6m6"
      },
      "execution_count": null,
      "outputs": []
    },
    {
      "cell_type": "code",
      "source": [
        "Occupation_wise_no_of_customers"
      ],
      "metadata": {
        "id": "NddOOP7rJJLq"
      },
      "execution_count": null,
      "outputs": []
    },
    {
      "cell_type": "code",
      "source": [
        "fig, ax = plt.subplots(figsize= [10,3])\n",
        "ax.bar(x= Occupation_wise_no_of_customers['Occupation'].astype('str'), height = Occupation_wise_no_of_customers['count'], color = \"violet\")\n",
        "ax.set_xlabel('Occupation')\n",
        "ax.set_ylabel('No. of Customers')\n",
        "ax.set_title('Occupation-wise Number of Customers')\n",
        "ax.spines[['top', 'right', 'left']].set_visible(False)\n",
        "plt.xticks(rotation=45)\n",
        "\n",
        "\n",
        "plt.show()"
      ],
      "metadata": {
        "id": "1VDHkvWSJSdu"
      },
      "execution_count": null,
      "outputs": []
    },
    {
      "cell_type": "markdown",
      "source": [
        "##### 1. Why did you pick the specific chart?"
      ],
      "metadata": {
        "id": "K5QZ13OEpz2H"
      }
    },
    {
      "cell_type": "markdown",
      "source": [
        "Bar charts are ideal for categorical comparisons across occupations."
      ],
      "metadata": {
        "id": "XESiWehPqBRc"
      }
    },
    {
      "cell_type": "markdown",
      "source": [
        "##### 2. What is/are the insight(s) found from the chart?"
      ],
      "metadata": {
        "id": "lQ7QKXXCp7Bj"
      }
    },
    {
      "cell_type": "markdown",
      "source": [
        "Certain occupations like Lawyers & Engineers dominate the dataset, while others have smaller representation."
      ],
      "metadata": {
        "id": "C_j1G7yiqdRP"
      }
    },
    {
      "cell_type": "markdown",
      "source": [
        "##### 3. Will the gained insights help creating a positive business impact?\n"
      ],
      "metadata": {
        "id": "448CDAPjqfQr"
      }
    },
    {
      "cell_type": "markdown",
      "source": [
        "Helps identify high-volume customer segments to target for loans and credit products."
      ],
      "metadata": {
        "id": "3cspy4FjqxJW"
      }
    },
    {
      "cell_type": "markdown",
      "source": [
        "#### Chart - 2  Age Distribution of Customers - Histogram(Demographic Analysis)"
      ],
      "metadata": {
        "id": "KSlN3yHqYklG"
      }
    },
    {
      "cell_type": "code",
      "source": [
        "sns.histplot(paisabazaar_df['Age'])\n",
        "plt.title('Distribution of Age')\n",
        "plt.xlabel('Age')\n",
        "plt.ylabel('Count')\n",
        "plt.show()"
      ],
      "metadata": {
        "id": "WOR2bOrZMrEI"
      },
      "execution_count": null,
      "outputs": []
    },
    {
      "cell_type": "markdown",
      "source": [
        "##### 1. Why did you pick the specific chart?"
      ],
      "metadata": {
        "id": "t6dVpIINYklI"
      }
    },
    {
      "cell_type": "markdown",
      "source": [
        "Histograms reveal distribution trends across a continuous variable."
      ],
      "metadata": {
        "id": "5aaW0BYyYklI"
      }
    },
    {
      "cell_type": "markdown",
      "source": [
        "##### 2. What is/are the insight(s) found from the chart?"
      ],
      "metadata": {
        "id": "ijmpgYnKYklI"
      }
    },
    {
      "cell_type": "markdown",
      "source": [
        "Most customers are concentrated in the working-age bracket (25–40 years)."
      ],
      "metadata": {
        "id": "PSx9atu2YklI"
      }
    },
    {
      "cell_type": "markdown",
      "source": [
        "##### 3. Will the gained insights help creating a positive business impact?"
      ],
      "metadata": {
        "id": "-JiQyfWJYklI"
      }
    },
    {
      "cell_type": "markdown",
      "source": [
        "Allows Paisabazaar to tailor financial products for the most active age group"
      ],
      "metadata": {
        "id": "BcBbebzrYklV"
      }
    },
    {
      "cell_type": "markdown",
      "source": [
        "#### Chart - 3 Annual Income by Occupation - Boxplot(Demographic Analysis)"
      ],
      "metadata": {
        "id": "EM7whBJCYoAo"
      }
    },
    {
      "cell_type": "code",
      "source": [
        "Occupation_wise_income = paisabazaar_df.groupby('Occupation')['Annual_Income'].sum().reset_index()"
      ],
      "metadata": {
        "id": "NBvNf1uKghxt"
      },
      "execution_count": null,
      "outputs": []
    },
    {
      "cell_type": "code",
      "source": [
        "Occupation_wise_income"
      ],
      "metadata": {
        "id": "DkOtnc93gr1a"
      },
      "execution_count": null,
      "outputs": []
    },
    {
      "cell_type": "code",
      "source": [
        "# Create a box plot for Annual Income across Occupation\n",
        "plt.figure(figsize=(12, 8))\n",
        "sns.boxplot(x='Occupation', y='Annual_Income', data=paisabazaar_df)\n",
        "plt.xticks(rotation=45)  # Rotate x-axis labels for better readability\n",
        "plt.title('Distribution of Annual Income Across Different Occupations')\n",
        "plt.xlabel('Occupation')\n",
        "plt.ylabel('Annual Income')\n",
        "plt.show()\n",
        "\n",
        "\n",
        "plt.show()"
      ],
      "metadata": {
        "id": "x4qJNrfun34M"
      },
      "execution_count": null,
      "outputs": []
    },
    {
      "cell_type": "markdown",
      "source": [
        "##### 1. Why did you pick the specific chart?"
      ],
      "metadata": {
        "id": "fge-S5ZAYoAp"
      }
    },
    {
      "cell_type": "markdown",
      "source": [
        "Boxplots display income spread and outliers across groups."
      ],
      "metadata": {
        "id": "5dBItgRVYoAp"
      }
    },
    {
      "cell_type": "markdown",
      "source": [
        "##### 2. What is/are the insight(s) found from the chart?"
      ],
      "metadata": {
        "id": "85gYPyotYoAp"
      }
    },
    {
      "cell_type": "markdown",
      "source": [
        "Salaried individuals generally earn higher and more stable incomes, while some occupations show wider variability."
      ],
      "metadata": {
        "id": "4jstXR6OYoAp"
      }
    },
    {
      "cell_type": "markdown",
      "source": [
        "##### 3. Will the gained insights help creating a positive business impact?"
      ],
      "metadata": {
        "id": "RoGjAbkUYoAp"
      }
    },
    {
      "cell_type": "markdown",
      "source": [
        "Informs creditworthiness assessment by linking occupation to income stability."
      ],
      "metadata": {
        "id": "zfJ8IqMcYoAp"
      }
    },
    {
      "cell_type": "markdown",
      "source": [
        "#### Chart - 4 Annual Income Distribution - Histogram (Income & Salary Insights)"
      ],
      "metadata": {
        "id": "4Of9eVA-YrdM"
      }
    },
    {
      "cell_type": "code",
      "source": [
        "sns.histplot(paisabazaar_df['Annual_Income'])\n",
        "plt.title('Distribution of Annual Income')\n",
        "plt.show()"
      ],
      "metadata": {
        "id": "irlUoxc8YrdO"
      },
      "execution_count": null,
      "outputs": []
    },
    {
      "cell_type": "markdown",
      "source": [
        "##### 1. Why did you pick the specific chart?"
      ],
      "metadata": {
        "id": "iky9q4vBYrdO"
      }
    },
    {
      "cell_type": "markdown",
      "source": [
        "Useful for visualizing skewness and spread in customer income levels."
      ],
      "metadata": {
        "id": "aJRCwT6DYrdO"
      }
    },
    {
      "cell_type": "markdown",
      "source": [
        "##### 2. What is/are the insight(s) found from the chart?"
      ],
      "metadata": {
        "id": "F6T5p64dYrdO"
      }
    },
    {
      "cell_type": "markdown",
      "source": [
        "Income distribution is slightly skewed, with many customers in lower-to-mid income ranges."
      ],
      "metadata": {
        "id": "Xx8WAJvtYrdO"
      }
    },
    {
      "cell_type": "markdown",
      "source": [
        "##### 3. Will the gained insights help creating a positive business impact?"
      ],
      "metadata": {
        "id": "y-Ehk30pYrdP"
      }
    },
    {
      "cell_type": "markdown",
      "source": [
        "Helps identify affordability ranges and potential loan size limits."
      ],
      "metadata": {
        "id": "jLNxxz7MYrdP"
      }
    },
    {
      "cell_type": "markdown",
      "source": [
        "#### Chart - 5 Monthly In-Hand Salary VS Credit Score - Boxplot (Income & Salary Insights)"
      ],
      "metadata": {
        "id": "bamQiAODYuh1"
      }
    },
    {
      "cell_type": "code",
      "source": [
        "plt.figure(figsize=(10, 6))\n",
        "sns.boxplot(x='Credit_Score', y='Monthly_Inhand_Salary', data=paisabazaar_df)\n",
        "plt.title('Monthly In-Hand Salary VS Credit Score')\n",
        "plt.xlabel('Credit Score')\n",
        "plt.ylabel('Monthly In-Hand Salary')\n",
        "plt.show()\n"
      ],
      "metadata": {
        "id": "TIJwrbroYuh3"
      },
      "execution_count": null,
      "outputs": []
    },
    {
      "cell_type": "markdown",
      "source": [
        "##### 1. Why did you pick the specific chart?"
      ],
      "metadata": {
        "id": "QHF8YVU7Yuh3"
      }
    },
    {
      "cell_type": "markdown",
      "source": [
        "Shows how salary variation relates to credit score categories."
      ],
      "metadata": {
        "id": "dcxuIMRPYuh3"
      }
    },
    {
      "cell_type": "markdown",
      "source": [
        "##### 2. What is/are the insight(s) found from the chart?"
      ],
      "metadata": {
        "id": "GwzvFGzlYuh3"
      }
    },
    {
      "cell_type": "markdown",
      "source": [
        "Customers with higher in-hand salaries are more often in the Good credit score group."
      ],
      "metadata": {
        "id": "uyqkiB8YYuh3"
      }
    },
    {
      "cell_type": "markdown",
      "source": [
        "##### 3. Will the gained insights help creating a positive business impact?"
      ],
      "metadata": {
        "id": "qYpmQ266Yuh3"
      }
    },
    {
      "cell_type": "markdown",
      "source": [
        "Demonstrates salary as a predictor of repayment ability and creditworthiness"
      ],
      "metadata": {
        "id": "_WtzZ_hCYuh4"
      }
    },
    {
      "cell_type": "markdown",
      "source": [
        "#### Chart - 6 Comparing Income Distribution of Good VS Poor Credit Score Customers - KDE plot (Income & Salary Insights)"
      ],
      "metadata": {
        "id": "OH-pJp9IphqM"
      }
    },
    {
      "cell_type": "code",
      "source": [
        "#Compare Income Distribution of Good VS Poor Credit Score Customers - KDE plot\n",
        "plt.figure(figsize=(10, 6))\n",
        "\n",
        "# KDE plot for Good credit score customers\n",
        "sns.kdeplot(df[df['Credit_Score'] == 'Good']['Annual_Income'],\n",
        "            label='Good Credit Score', shade=True)\n",
        "\n",
        "# KDE plot for Poor credit score customers\n",
        "sns.kdeplot(df[df['Credit_Score'] == 'Poor']['Annual_Income'],\n",
        "            label='Poor Credit Score', shade=True, color='red')\n",
        "\n",
        "plt.title(\"Income Distribution: Good vs Poor Credit Score Customers\")\n",
        "plt.xlabel(\"Annual Income\")\n",
        "plt.ylabel(\"Density\")\n",
        "plt.legend()\n",
        "plt.show()"
      ],
      "metadata": {
        "id": "kuRf4wtuphqN"
      },
      "execution_count": null,
      "outputs": []
    },
    {
      "cell_type": "markdown",
      "source": [
        "##### 1. Why did you pick the specific chart?"
      ],
      "metadata": {
        "id": "bbFf2-_FphqN"
      }
    },
    {
      "cell_type": "markdown",
      "source": [
        "KDE highlights income density differences between groups."
      ],
      "metadata": {
        "id": "loh7H2nzphqN"
      }
    },
    {
      "cell_type": "markdown",
      "source": [
        "##### 2. What is/are the insight(s) found from the chart?"
      ],
      "metadata": {
        "id": "_ouA3fa0phqN"
      }
    },
    {
      "cell_type": "markdown",
      "source": [
        "Good scorers cluster around higher income levels, while poor scorers are more spread in the lower range."
      ],
      "metadata": {
        "id": "VECbqPI7phqN"
      }
    },
    {
      "cell_type": "markdown",
      "source": [
        "##### 3. Will the gained insights help creating a positive business impact?"
      ],
      "metadata": {
        "id": "Seke61FWphqN"
      }
    },
    {
      "cell_type": "markdown",
      "source": [
        "Reinforces that income strongly influences repayment and credit risk."
      ],
      "metadata": {
        "id": "DW4_bGpfphqN"
      }
    },
    {
      "cell_type": "markdown",
      "source": [
        "#### Chart - 7 Average Number of Loans VS Credit Score - Bar Chart (Credit & Loans Analysis)"
      ],
      "metadata": {
        "id": "PIIx-8_IphqN"
      }
    },
    {
      "cell_type": "code",
      "source": [
        "#Average Number of Loans VS Credit Score - Bar Chart\n",
        "plt.figure(figsize=(10, 6))\n",
        "sns.barplot(x='Credit_Score', y='Num_of_Loan', data=paisabazaar_df)\n",
        "plt.title('Average Number of Loans VS Credit Score')\n",
        "plt.xlabel('Credit Score')\n",
        "plt.ylabel('Average Number of Loans')\n",
        "plt.show()"
      ],
      "metadata": {
        "id": "lqAIGUfyphqO"
      },
      "execution_count": null,
      "outputs": []
    },
    {
      "cell_type": "markdown",
      "source": [
        "##### 1. Why did you pick the specific chart?"
      ],
      "metadata": {
        "id": "t27r6nlMphqO"
      }
    },
    {
      "cell_type": "markdown",
      "source": [
        "Simple comparison of averages across categories."
      ],
      "metadata": {
        "id": "iv6ro40sphqO"
      }
    },
    {
      "cell_type": "markdown",
      "source": [
        "##### 2. What is/are the insight(s) found from the chart?"
      ],
      "metadata": {
        "id": "r2jJGEOYphqO"
      }
    },
    {
      "cell_type": "markdown",
      "source": [
        "Poor scorers hold more loans on average than good scorers."
      ],
      "metadata": {
        "id": "Po6ZPi4hphqO"
      }
    },
    {
      "cell_type": "markdown",
      "source": [
        "##### 3. Will the gained insights help creating a positive business impact?"
      ],
      "metadata": {
        "id": "b0JNsNcRphqO"
      }
    },
    {
      "cell_type": "markdown",
      "source": [
        "Multiple active loans increase default risk; can guide stricter multi-loan approval checks."
      ],
      "metadata": {
        "id": "xvSq8iUTphqO"
      }
    },
    {
      "cell_type": "markdown",
      "source": [
        "#### Chart - 8 Types of Loans Availed by Customers - Stacked Bar Chart (Credit & Loans Analysis)"
      ],
      "metadata": {
        "id": "BZR9WyysphqO"
      }
    },
    {
      "cell_type": "code",
      "source": [
        "# Split the Type_of_Loan column (loans are separated by commas)\n",
        "loan_split = paisabazaar_df['Type_of_Loan'].str.get_dummies(sep=',')\n",
        "\n",
        "# Add Credit Score if you want to analyze loans by score groups\n",
        "loan_by_score = pd.concat([paisabazaar_df['Credit_Score'], loan_split], axis=1)\n",
        "\n",
        "# Group by Credit Score and sum\n",
        "loan_distribution = loan_by_score.groupby('Credit_Score').sum()\n",
        "\n",
        "# Plot stacked bar chart\n",
        "loan_distribution.plot(kind='bar', stacked=True, figsize=(10,6))\n",
        "\n",
        "plt.title(\"Types of Loans Availed by Customers (Stacked by Credit Score)\")\n",
        "plt.xlabel(\"Credit Score Category\")\n",
        "plt.ylabel(\"Number of Loans\")\n",
        "plt.legend(title=\"Loan Types\", bbox_to_anchor=(1.05, 1), loc='upper left')\n",
        "plt.tight_layout()\n",
        "plt.show()"
      ],
      "metadata": {
        "id": "jXS8pgsne7rh"
      },
      "execution_count": null,
      "outputs": []
    },
    {
      "cell_type": "markdown",
      "source": [
        "##### 1. Why did you pick the specific chart?"
      ],
      "metadata": {
        "id": "jj7wYXLtphqO"
      }
    },
    {
      "cell_type": "markdown",
      "source": [
        "Stacked bar charts are effective for showing how different loan types are distributed across customers."
      ],
      "metadata": {
        "id": "Ob8u6rCTphqO"
      }
    },
    {
      "cell_type": "markdown",
      "source": [
        "##### 2. What is/are the insight(s) found from the chart?"
      ],
      "metadata": {
        "id": "eZrbJ2SmphqO"
      }
    },
    {
      "cell_type": "markdown",
      "source": [
        "Personal loans and credit cards dominate, with customers holding multiple loans often having weaker credit scores."
      ],
      "metadata": {
        "id": "mZtgC_hjphqO"
      }
    },
    {
      "cell_type": "markdown",
      "source": [
        "##### 3. Will the gained insights help creating a positive business impact?\n"
      ],
      "metadata": {
        "id": "rFu4xreNphqO"
      }
    },
    {
      "cell_type": "markdown",
      "source": [
        "Helps lenders identify over-leveraged customers and control loan approvals accordingly."
      ],
      "metadata": {
        "id": "ey_0qi68phqO"
      }
    },
    {
      "cell_type": "markdown",
      "source": [
        "#### Chart - 9 Outstanding Debt VS Annual Income(with Credit Score as Color) - Scatter plot (Credit & Loan Analysis)"
      ],
      "metadata": {
        "id": "YJ55k-q6phqO"
      }
    },
    {
      "cell_type": "code",
      "source": [
        "plt.figure(figsize=(10, 6))\n",
        "sns.scatterplot(x='Annual_Income', y='Outstanding_Debt', hue='Credit_Score', data=paisabazaar_df)\n",
        "plt.title('Outstanding Debt VS Annual Income (with Credit Score as Color)')\n",
        "plt.xlabel('Annual Income')\n",
        "plt.ylabel('Outstanding Debt')\n",
        "plt.show()"
      ],
      "metadata": {
        "id": "SnBsEe4wgZ6f"
      },
      "execution_count": null,
      "outputs": []
    },
    {
      "cell_type": "markdown",
      "source": [
        "##### 1. Why did you pick the specific chart?"
      ],
      "metadata": {
        "id": "gCFgpxoyphqP"
      }
    },
    {
      "cell_type": "markdown",
      "source": [
        "Best to show relation between income and debt with credit score as color."
      ],
      "metadata": {
        "id": "TVxDimi2phqP"
      }
    },
    {
      "cell_type": "markdown",
      "source": [
        "##### 2. What is/are the insight(s) found from the chart?"
      ],
      "metadata": {
        "id": "OVtJsKN_phqQ"
      }
    },
    {
      "cell_type": "markdown",
      "source": [
        "Poor scorers: higher debt at low income.\n",
        "\n",
        "Good scorers: lower debt, better balance.\n",
        "\n",
        "Clear trend: higher income → better credit & lower debt."
      ],
      "metadata": {
        "id": "ngGi97qjphqQ"
      }
    },
    {
      "cell_type": "markdown",
      "source": [
        "##### 3. Will the gained insights help creating a positive business impact?\n",
        "Are there any insights that lead to negative growth? Justify with specific reason."
      ],
      "metadata": {
        "id": "lssrdh5qphqQ"
      }
    },
    {
      "cell_type": "markdown",
      "source": [
        "Identify risky low-income/high-debt customers.\n",
        "\n",
        "Refine loan approvals using debt-to-income ratio.\n",
        "\n",
        "Target stable customers for premium products."
      ],
      "metadata": {
        "id": "tBpY5ekJphqQ"
      }
    },
    {
      "cell_type": "markdown",
      "source": [
        "#### Chart - 10 Number of Delayed Payments VS Credit Score - Box Plot (Risk & Fraud Indicators)"
      ],
      "metadata": {
        "id": "U2RJ9gkRphqQ"
      }
    },
    {
      "cell_type": "code",
      "source": [
        "#Number of Delayed Payments VS Credit Score - Box Plot\n",
        "plt.figure(figsize=(10, 6))\n",
        "sns.boxplot(x='Credit_Score', y='Num_of_Delayed_Payment', data=paisabazaar_df)\n",
        "plt.title('Number of Delayed Payments VS Credit Score')\n",
        "plt.xlabel('Credit Score')\n",
        "plt.ylabel('Number of Delayed Payments')\n",
        "plt.show()"
      ],
      "metadata": {
        "id": "GM7a4YP4phqQ"
      },
      "execution_count": null,
      "outputs": []
    },
    {
      "cell_type": "markdown",
      "source": [
        "##### 1. Why did you pick the specific chart?"
      ],
      "metadata": {
        "id": "1M8mcRywphqQ"
      }
    },
    {
      "cell_type": "markdown",
      "source": [
        "Boxplots capture repayment irregularities per credit score group."
      ],
      "metadata": {
        "id": "8agQvks0phqQ"
      }
    },
    {
      "cell_type": "markdown",
      "source": [
        "##### 2. What is/are the insight(s) found from the chart?"
      ],
      "metadata": {
        "id": "tgIPom80phqQ"
      }
    },
    {
      "cell_type": "markdown",
      "source": [
        "Poor scorers have a much higher number of delayed payments."
      ],
      "metadata": {
        "id": "Qp13pnNzphqQ"
      }
    },
    {
      "cell_type": "markdown",
      "source": [
        "##### 3. Will the gained insights help creating a positive business impact?\n",
        "Are there any insights that lead to negative growth? Justify with specific reason."
      ],
      "metadata": {
        "id": "JMzcOPDDphqR"
      }
    },
    {
      "cell_type": "markdown",
      "source": [
        "Strong evidence that repayment discipline directly impacts credit ratings."
      ],
      "metadata": {
        "id": "R4Ka1PC2phqR"
      }
    },
    {
      "cell_type": "markdown",
      "source": [
        "#### Chart - 11 Delay From Due Date Distribution - Histogram & KDE plots (Risk & Fraud Indicator)"
      ],
      "metadata": {
        "id": "x-EpHcCOp1ci"
      }
    },
    {
      "cell_type": "code",
      "source": [
        "plt.figure(figsize=(10, 6))\n",
        "sns.histplot(paisabazaar_df['Delay_from_due_date'], bins=30, edgecolor = 'black', kde=True)\n",
        "plt.title('Delay From Due Date Distribution')\n",
        "plt.xlabel('Days Delayed')\n",
        "plt.ylabel('Number of Customers')\n",
        "plt.show()"
      ],
      "metadata": {
        "id": "mAQTIvtqp1cj"
      },
      "execution_count": null,
      "outputs": []
    },
    {
      "cell_type": "markdown",
      "source": [
        "##### 1. Why did you pick the specific chart?"
      ],
      "metadata": {
        "id": "X_VqEhTip1ck"
      }
    },
    {
      "cell_type": "markdown",
      "source": [
        "Histograms and KDE plots show the frequency and distribution of delays, helping visualize repayment behavior."
      ],
      "metadata": {
        "id": "-vsMzt_np1ck"
      }
    },
    {
      "cell_type": "markdown",
      "source": [
        "##### 2. What is/are the insight(s) found from the chart?"
      ],
      "metadata": {
        "id": "8zGJKyg5p1ck"
      }
    },
    {
      "cell_type": "markdown",
      "source": [
        "Many customers have consistent payment delays, which correlates with poor credit scores."
      ],
      "metadata": {
        "id": "ZYdMsrqVp1ck"
      }
    },
    {
      "cell_type": "markdown",
      "source": [
        "##### 3. Will the gained insights help creating a positive business impact?\n",
        "Are there any insights that lead to negative growth? Justify with specific reason."
      ],
      "metadata": {
        "id": "PVzmfK_Ep1ck"
      }
    },
    {
      "cell_type": "markdown",
      "source": [
        "Enables the company to track repayment discipline and set up automated reminders or stricter monitoring for chronic defaulters."
      ],
      "metadata": {
        "id": "druuKYZpp1ck"
      }
    },
    {
      "cell_type": "markdown",
      "source": [
        "#### Chart - 12 Credit Utilization Ratio Grouped By Credit Score - Bar Chart (Risk & Fraud Indicators)"
      ],
      "metadata": {
        "id": "n3dbpmDWp1ck"
      }
    },
    {
      "cell_type": "code",
      "source": [
        "\n",
        "plt.figure(figsize=(10, 6))\n",
        "sns.barplot(x='Credit_Utilization_Ratio', y='Credit_Score', data=paisabazaar_df)\n",
        "plt.title('Credit Utilization Ratio Grouped By Credit Score')\n",
        "plt.xlabel('Credit Utilization Ratio')\n",
        "plt.ylabel('Credit Score')\n",
        "plt.show"
      ],
      "metadata": {
        "id": "t211-IcEjvG-"
      },
      "execution_count": null,
      "outputs": []
    },
    {
      "cell_type": "markdown",
      "source": [
        "##### 1. Why did you pick the specific chart?"
      ],
      "metadata": {
        "id": "ylSl6qgtp1ck"
      }
    },
    {
      "cell_type": "markdown",
      "source": [
        "Clearly shows how utilization varies by group."
      ],
      "metadata": {
        "id": "m2xqNkiQp1ck"
      }
    },
    {
      "cell_type": "markdown",
      "source": [
        "##### 2. What is/are the insight(s) found from the chart?"
      ],
      "metadata": {
        "id": "ZWILFDl5p1ck"
      }
    },
    {
      "cell_type": "markdown",
      "source": [
        "Poor scorers have the highest utilization ratio, while good scorers keep it low."
      ],
      "metadata": {
        "id": "x-lUsV2mp1ck"
      }
    },
    {
      "cell_type": "markdown",
      "source": [
        "##### 3. Will the gained insights help creating a positive business impact?\n",
        "Are there any insights that lead to negative growth? Justify with specific reason."
      ],
      "metadata": {
        "id": "M7G43BXep1ck"
      }
    },
    {
      "cell_type": "markdown",
      "source": [
        "Can be used as an early-warning KPI to flag risky customers."
      ],
      "metadata": {
        "id": "5wwDJXsLp1cl"
      }
    },
    {
      "cell_type": "markdown",
      "source": [
        "#### Chart - 13 Correlation Between Numerical Features - Heatmap (Risk & Fraud Indicator)"
      ],
      "metadata": {
        "id": "Ag9LCva-p1cl"
      }
    },
    {
      "cell_type": "code",
      "source": [
        "# Select only numerical features\n",
        "num_df = paisabazaar_df.select_dtypes(include=['int64', 'float64'])\n",
        "\n",
        "# Compute correlation matrix\n",
        "corr = num_df.corr()\n",
        "\n",
        "# Plot heatmap\n",
        "plt.figure(figsize=(12,8))\n",
        "sns.heatmap(corr, annot=True, fmt=\".2f\", cmap=\"coolwarm\", cbar=True)\n",
        "\n",
        "plt.title(\"Correlation Heatmap of Numerical Features\")\n",
        "plt.show()"
      ],
      "metadata": {
        "id": "EUfxeq9-p1cl"
      },
      "execution_count": null,
      "outputs": []
    },
    {
      "cell_type": "markdown",
      "source": [
        "##### 1. Why did you pick the specific chart?"
      ],
      "metadata": {
        "id": "E6MkPsBcp1cl"
      }
    },
    {
      "cell_type": "markdown",
      "source": [
        "Heatmaps are ideal for showing correlations between multiple numerical features."
      ],
      "metadata": {
        "id": "V22bRsFWp1cl"
      }
    },
    {
      "cell_type": "markdown",
      "source": [
        "##### 2. What is/are the insight(s) found from the chart?"
      ],
      "metadata": {
        "id": "2cELzS2fp1cl"
      }
    },
    {
      "cell_type": "markdown",
      "source": [
        "Strong positive correlation between Annual Income & Monthly Salary, and between Debt & EMI. Credit Utilization Ratio is strongly tied to credit score."
      ],
      "metadata": {
        "id": "ozQPc2_Ip1cl"
      }
    },
    {
      "cell_type": "markdown",
      "source": [
        "##### 3. Will the gained insights help creating a positive business impact?\n"
      ],
      "metadata": {
        "id": "3MPXvC8up1cl"
      }
    },
    {
      "cell_type": "markdown",
      "source": [
        "Helps in feature selection for predictive models, reducing redundancy and improving accuracy in fraud detection."
      ],
      "metadata": {
        "id": "GL8l1tdLp1cl"
      }
    },
    {
      "cell_type": "markdown",
      "source": [
        "#### Chart - 14 - Payment Behaviour Distribution - Donut Chart (Behavioural Patterns)"
      ],
      "metadata": {
        "id": "NC_X3p0fY2L0"
      }
    },
    {
      "cell_type": "code",
      "source": [
        "payment_behaviour_counts = paisabazaar_df['Payment_Behaviour'].value_counts()\n",
        "\n",
        "# Create a pie chart\n",
        "plt.figure(figsize=(8, 8))\n",
        "plt.pie(payment_behaviour_counts, labels=payment_behaviour_counts.index, autopct='%1.1f%%', startangle=90)\n",
        "plt.title('Payment Behaviour Distribution')\n",
        "\n",
        "\n",
        "# Add legend\n",
        "plt.legend(title='Payment Behaviour', bbox_to_anchor=(1.05, 1), loc='upper left')\n",
        "\n",
        "plt.show()"
      ],
      "metadata": {
        "id": "xyC9zolEZNRQ"
      },
      "execution_count": null,
      "outputs": []
    },
    {
      "cell_type": "markdown",
      "source": [
        "##### 1. Why did you pick the specific chart?"
      ],
      "metadata": {
        "id": "UV0SzAkaZNRQ"
      }
    },
    {
      "cell_type": "markdown",
      "source": [
        "Pie charts are effective for proportional breakdowns."
      ],
      "metadata": {
        "id": "DVPuT8LYZNRQ"
      }
    },
    {
      "cell_type": "markdown",
      "source": [
        "##### 2. What is/are the insight(s) found from the chart?"
      ],
      "metadata": {
        "id": "YPEH6qLeZNRQ"
      }
    },
    {
      "cell_type": "markdown",
      "source": [
        "The dataset shows a sizable share of customers with delayed or partial payments."
      ],
      "metadata": {
        "id": "bfSqtnDqZNRR"
      }
    },
    {
      "cell_type": "markdown",
      "source": [
        "##### 3. Will the gained insights help creating a positive business impact?\n"
      ],
      "metadata": {
        "id": "FoQhaxv7UmQx"
      }
    },
    {
      "cell_type": "markdown",
      "source": [
        "Highlights repayment culture, helping design better repayment reminder systems."
      ],
      "metadata": {
        "id": "rfAU3vWsUrBQ"
      }
    },
    {
      "cell_type": "markdown",
      "source": [
        "#### Chart - 15 - Payment of Minimum Amount(Yes/No) VS Credit Score - Bar Chart (Behavioural Patterns)"
      ],
      "metadata": {
        "id": "q29F0dvdveiT"
      }
    },
    {
      "cell_type": "code",
      "source": [
        "#Payment of Minimum Amount(Yes/No) VS Credit Score - Bar Chart\n",
        "plt.figure(figsize=(7,5))\n",
        "\n",
        "sns.countplot(data=df, x='Payment_of_Min_Amount', hue='Credit_Score', palette='Set2')\n",
        "\n",
        "plt.title(\"Payment of Minimum Amount vs Credit Score\")\n",
        "plt.xlabel(\"Payment of Minimum Amount(Yes/No)\")\n",
        "plt.ylabel(\"Number of Customers\")\n",
        "plt.legend(title=\"Credit Score\")\n",
        "plt.show()"
      ],
      "metadata": {
        "id": "o58-TEIhveiU"
      },
      "execution_count": null,
      "outputs": []
    },
    {
      "cell_type": "markdown",
      "source": [
        "##### 1. Why did you pick the specific chart?"
      ],
      "metadata": {
        "id": "EXh0U9oCveiU"
      }
    },
    {
      "cell_type": "markdown",
      "source": [
        "A countplot with hue (Credit Score) clearly shows how repayment habits differ across score categories."
      ],
      "metadata": {
        "id": "eMmPjTByveiU"
      }
    },
    {
      "cell_type": "markdown",
      "source": [
        "##### 2. What is/are the insight(s) found from the chart?"
      ],
      "metadata": {
        "id": "22aHeOlLveiV"
      }
    },
    {
      "cell_type": "markdown",
      "source": [
        "Customers who only pay the minimum amount are mostly in the Poor score group."
      ],
      "metadata": {
        "id": "uPQ8RGwHveiV"
      }
    },
    {
      "cell_type": "markdown",
      "source": [
        "##### 3. Will the gained insights help creating a positive business impact?"
      ],
      "metadata": {
        "id": "jFPG52ikKcbA"
      }
    },
    {
      "cell_type": "markdown",
      "source": [
        "Highlights risky repayment habits, allowing financial institutions to flag these customers earlier."
      ],
      "metadata": {
        "id": "gG7V5X4zKkMU"
      }
    },
    {
      "cell_type": "markdown",
      "source": [
        "#### Chart - 16 - Payment Behaviour VS Occupation - Stacked Bar Chart (Behavioural Patterns)"
      ],
      "metadata": {
        "id": "D2xEQJhCsYTF"
      }
    },
    {
      "cell_type": "code",
      "source": [
        "\n",
        "plt.figure(figsize=(10, 6))\n",
        "sns.countplot(data=paisabazaar_df, x='Payment_Behaviour', hue='Occupation', palette='Set2')\n",
        "plt.title(\"Payment Behaviour vs Occupation\")\n",
        "plt.xlabel(\"Payment Behaviour\")\n",
        "plt.ylabel(\"Number of Customers\")\n",
        "plt.legend(title=\"Occupation\")\n",
        "plt.xticks(rotation = 45)\n",
        "plt.show()"
      ],
      "metadata": {
        "id": "id7n0cU-slVA"
      },
      "execution_count": null,
      "outputs": []
    },
    {
      "cell_type": "markdown",
      "source": [
        "##### 1. Why did you pick the specific chart?"
      ],
      "metadata": {
        "id": "ofedFtPntEof"
      }
    },
    {
      "cell_type": "markdown",
      "source": [
        "Stacked bars allow cross-comparison of repayment habits by profession."
      ],
      "metadata": {
        "id": "v3tk5nH_tF6o"
      }
    },
    {
      "cell_type": "markdown",
      "source": [
        "##### 2. What is/are the insight(s) found from the chart?"
      ],
      "metadata": {
        "id": "wg0g_V4VtHL8"
      }
    },
    {
      "cell_type": "markdown",
      "source": [
        "Certain occupations are more prone to delayed/partial payments."
      ],
      "metadata": {
        "id": "yR9iV6j5tNBp"
      }
    },
    {
      "cell_type": "markdown",
      "source": [
        "##### 3. Will the gained insights help creating a positive business impact?"
      ],
      "metadata": {
        "id": "NGgFJ1R5U9Fg"
      }
    },
    {
      "cell_type": "markdown",
      "source": [
        "Helps in occupation-based risk profiling and customized loan eligibility rules."
      ],
      "metadata": {
        "id": "qDg9uIEQVCTG"
      }
    },
    {
      "cell_type": "markdown",
      "source": [
        "#### Chart - 17 - Percentage of Customers In Good, Standard, Poor categories - Pie Chart (Overall Credit Score Analysis)"
      ],
      "metadata": {
        "id": "aG748TICuVTw"
      }
    },
    {
      "cell_type": "code",
      "source": [
        "# Count customers in each credit score category\n",
        "credit_score_counts = paisabazaar_df['Credit_Score'].value_counts()\n",
        "\n",
        "# Pie chart\n",
        "plt.figure(figsize=(6,6))\n",
        "plt.pie(credit_score_counts,\n",
        "        labels=credit_score_counts.index,\n",
        "         autopct='%1.1f%%',\n",
        "         startangle=90,\n",
        "        colors=['green', 'orange', 'red'],\n",
        "        explode=(0.05, 0.05, 0.05))  # slight separation for clarity\n",
        "\n",
        "plt.title(\"Percentage of Customers by Credit Score Category\")\n",
        "plt.show()\n"
      ],
      "metadata": {
        "id": "PtbPpi_auaNu"
      },
      "execution_count": null,
      "outputs": []
    },
    {
      "cell_type": "markdown",
      "source": [
        "##### 1. Why did you pick the specific chart?"
      ],
      "metadata": {
        "id": "VANSuv2zwvOO"
      }
    },
    {
      "cell_type": "markdown",
      "source": [
        "A pie chart is best to show the percentage split of customers across Good, Standard, and Poor credit score categories."
      ],
      "metadata": {
        "id": "GG_o7xxswzkI"
      }
    },
    {
      "cell_type": "markdown",
      "source": [
        "##### 2. What is/are the insight(s) found from the chart?"
      ],
      "metadata": {
        "id": "EACr8x0nwz_P"
      }
    },
    {
      "cell_type": "markdown",
      "source": [
        "Majority of customers fall under the Standard category, with Poor scorers forming a significant portion, highlighting risk pockets."
      ],
      "metadata": {
        "id": "no1fd0nVw3mL"
      }
    },
    {
      "cell_type": "markdown",
      "source": [
        "##### 3. Will the gained insights help creating a positive business impact?"
      ],
      "metadata": {
        "id": "dS7KO8LwHttl"
      }
    },
    {
      "cell_type": "markdown",
      "source": [
        "Helps the bank identify the proportion of high-risk customers, so they can design stricter credit policies and focus retention efforts on good scorers."
      ],
      "metadata": {
        "id": "AXlQ48AUHw-j"
      }
    },
    {
      "cell_type": "markdown",
      "source": [
        "#### Chart - 18 - Average Debt, EMI, and Utilization across Credit Score Categories - Bar Chart (Overall Credit Score Analysis)"
      ],
      "metadata": {
        "id": "hgl9dBSGw4BG"
      }
    },
    {
      "cell_type": "code",
      "source": [
        "# Calculate averages across Credit Score categories\n",
        "avg_metrics = paisabazaar_df.groupby('Credit_Score')[['Outstanding_Debt',\n",
        "                                          'Total_EMI_per_month',\n",
        "                                          'Credit_Utilization_Ratio']].mean()\n",
        "\n",
        "# Plot grouped bar chart\n",
        "avg_metrics.plot(kind='bar', figsize=(10,6), width=0.7)\n",
        "\n",
        "plt.title(\"Average Debt, EMI, and Credit Utilization across Credit Score Categories\")\n",
        "plt.xlabel(\"Credit Score Category\")\n",
        "plt.ylabel(\"Average Value\")\n",
        "plt.legend(title=\"Financial Metrics\")\n",
        "plt.xticks(rotation=0)\n",
        "\n",
        "plt.show()\n",
        "\n"
      ],
      "metadata": {
        "id": "XFVgDEWrxPvk"
      },
      "execution_count": null,
      "outputs": []
    },
    {
      "cell_type": "markdown",
      "source": [
        "##### 1. Why did you pick the specific chart?"
      ],
      "metadata": {
        "id": "Jai6y2EGySWM"
      }
    },
    {
      "cell_type": "markdown",
      "source": [
        "Grouped bar charts allow simultaneous comparison of multiple financial KPIs across categories."
      ],
      "metadata": {
        "id": "FASqwPlxyVpt"
      }
    },
    {
      "cell_type": "markdown",
      "source": [
        "##### 2. What is/are the insight(s) found from the chart?"
      ],
      "metadata": {
        "id": "kdb2GBcjyWFW"
      }
    },
    {
      "cell_type": "markdown",
      "source": [
        "Poor scorers consistently have higher EMI and utilization ratios compared to Good scorers."
      ],
      "metadata": {
        "id": "_dMoqGkoyY2x"
      }
    },
    {
      "cell_type": "markdown",
      "source": [
        "##### 3. Will the gained insights help creating a positive business impact?"
      ],
      "metadata": {
        "id": "ZwtCq_I4JSpt"
      }
    },
    {
      "cell_type": "markdown",
      "source": [
        "Confirms which financial metrics drive poor credit scores, enabling early warning models and better fraud detection."
      ],
      "metadata": {
        "id": "M4Czmkb5JW1a"
      }
    },
    {
      "cell_type": "markdown",
      "source": [
        "## **6. Solution to Business Objective**"
      ],
      "metadata": {
        "id": "JcMwzZxoAimU"
      }
    },
    {
      "cell_type": "markdown",
      "source": [
        "#### What do you suggest the client to achieve Business Objective ?\n",
        "Explain Briefly."
      ],
      "metadata": {
        "id": "8G2x9gOozGDZ"
      }
    },
    {
      "cell_type": "markdown",
      "source": [
        "To address the business objective of reducing fraud risk and improving credit portfolio quality, I recommend a data-driven approach using the insights derived from the analysis. First, customers can be segmented based on their credit score, debt levels, and utilization ratios to identify high-risk groups. Customers showing consistently high outstanding debt, EMI burden, and credit utilization should be flagged for closer monitoring. The institution should encourage timely payments by offering reminders, flexible repayment plans, and financial counseling. At the same time, predictive models can be developed to identify early warning signals of potential fraud or default. By promoting responsible borrowing and proactive engagement, the bank can improve repayment rates. Automated alerts and stricter loan eligibility criteria for high-risk customers will further reduce exposure. Meanwhile, low-risk customers should be rewarded with better credit terms to strengthen loyalty. Over time, these actions will not only reduce fraud but also improve the overall profitability and customer trust of the organization."
      ],
      "metadata": {
        "id": "pASKb0qOza21"
      }
    },
    {
      "cell_type": "markdown",
      "source": [
        "# **Conclusion**"
      ],
      "metadata": {
        "id": "gCX9965dhzqZ"
      }
    },
    {
      "cell_type": "markdown",
      "source": [
        "In conclusion, this project successfully explored the Paisabazaar dataset to uncover patterns in customer behavior, financial health, and creditworthiness. After cleaning and preparing the data by fixing datatypes, handling nulls, and checking for duplicates, meaningful EDA and visualizations were performed. The analysis of credit score distribution highlighted that most customers fall in the Standard category, with Good and Poor segments revealing distinct financial patterns. Key KPIs such as Outstanding Debt, EMI, and Utilization Ratio clearly distinguished Good scorers, who maintained disciplined debt levels, from Poor scorers, who struggled with high debt burdens and delayed repayments.\n",
        "\n",
        "The study of income groups revealed that while income is an important factor, repayment discipline and credit utilization were far more decisive in determining credit scores. Charts comparing payment of minimum amount against credit scores confirmed that customers paying only minimum dues were more likely to have poor scores. The delay from due date analysis further reinforced that late payments are strong indicators of financial stress and risk. Loan-type analysis showed a high reliance on personal loans and credit cards, with multiple loan types clustering among weaker credit scorers.\n",
        "\n",
        "Correlation analysis indicated strong links between income, debt, and utilization ratios, making them critical features for credit risk modeling. Radar charts further emphasized that poor credit scorers consistently scored worse across all financial indicators, while good scorers maintained balance and control. These findings align with the business objective by highlighting how repayment behavior, utilization ratio, and EMI obligations serve as stronger risk predictors than income alone.\n",
        "\n",
        "Overall, the project demonstrates that fraud risk and poor credit performance can be mitigated by focusing on early detection of high-risk behaviors such as high utilization, minimum payments, and frequent delays. With these insights, Paisabazaar can implement targeted interventions, improve risk assessment models, and promote responsible borrowing, ultimately strengthening both customer trust and institutional stability."
      ],
      "metadata": {
        "id": "Fjb1IsQkh3yE"
      }
    },
    {
      "cell_type": "markdown",
      "source": [
        "### ***Hurrah! You have successfully completed your EDA Capstone Project !!!***"
      ],
      "metadata": {
        "id": "gIfDvo9L0UH2"
      }
    }
  ]
}